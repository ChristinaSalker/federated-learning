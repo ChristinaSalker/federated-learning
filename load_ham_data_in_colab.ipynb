{
 "cells": [
  {
   "cell_type": "markdown",
   "metadata": {
    "colab_type": "text",
    "id": "-SXAUikGLGwS"
   },
   "source": [
    "# Load and process HAM 10000 data\n",
    "\n",
    "files.upload returns a dictionary of the files which were uploaded. The dictionary is keyed by the file name and values are the data which were uploaded. \n",
    "\n",
    "*I will try to use this to upload my HAM100000 data to Google Drive and access it in my notebook here.*\n"
   ]
  },
  {
   "cell_type": "markdown",
   "metadata": {
    "colab_type": "text",
    "id": "XGgheSWUfiEz"
   },
   "source": [
    "## Installations before we start"
   ]
  },
  {
   "cell_type": "code",
   "execution_count": null,
   "metadata": {
    "colab": {
     "base_uri": "https://localhost:8080/",
     "height": 785
    },
    "colab_type": "code",
    "executionInfo": {
     "elapsed": 16931,
     "status": "ok",
     "timestamp": 1583069545076,
     "user": {
      "displayName": "Christina Salker",
      "photoUrl": "https://lh3.googleusercontent.com/a-/AOh14Gi4IqNJZgrPaQeGE4tOg79vcUrtM9omqov_EOBk=s64",
      "userId": "13742789754115775095"
     },
     "user_tz": -60
    },
    "id": "oYKA-K07gryC",
    "outputId": "68de66d6-6dc8-4032-ff65-86ff8817bf93"
   },
   "outputs": [],
   "source": [
    "# update pytorch and fastai to latest versions\n",
    "!pip install torch -U\n",
    "!pip install torchvision -U\n",
    "!pip install fastai -U \n",
    "!pip install -q kaggle"
   ]
  },
  {
   "cell_type": "code",
   "execution_count": null,
   "metadata": {
    "colab": {
     "base_uri": "https://localhost:8080/",
     "height": 17
    },
    "colab_type": "code",
    "executionInfo": {
     "elapsed": 5443,
     "status": "ok",
     "timestamp": 1583069615732,
     "user": {
      "displayName": "Christina Salker",
      "photoUrl": "https://lh3.googleusercontent.com/a-/AOh14Gi4IqNJZgrPaQeGE4tOg79vcUrtM9omqov_EOBk=s64",
      "userId": "13742789754115775095"
     },
     "user_tz": -60
    },
    "id": "YtA2jmoGg973",
    "outputId": "13e30146-738f-4ca2-f276-b89050d0ef5c"
   },
   "outputs": [],
   "source": [
    "# import the usual frameworks\n",
    "import pandas as pd\n",
    "import numpy as np\n",
    "import matplotlib.pyplot as plt\n",
    "import seaborn as sns\n",
    "import collections\n",
    "import warnings\n",
    "import json\n",
    "import os\n",
    "\n",
    "from IPython.core.display import display, HTML\n",
    "    \n",
    "# import plotly \n",
    "import plotly\n",
    "import plotly.figure_factory as ff\n",
    "import plotly.graph_objs as go\n",
    "import plotly.offline as py\n",
    "import plotly.tools as tls\n",
    "\n",
    "# for color scales in plotly\n",
    "import colorlover as cl \n",
    "\n",
    "# import deep learning libraries\n",
    "import torch\n",
    "import fastai\n",
    "from fastai import *\n",
    "from fastai.vision import *\n",
    "\n",
    "from sklearn.metrics import auc, roc_curve, roc_auc_score\n",
    "\n",
    "# configure things\n",
    "warnings.filterwarnings('ignore')\n",
    "\n",
    "pd.options.display.float_format = '{:,.2f}'.format  \n",
    "pd.options.display.max_columns = 999\n",
    "\n",
    "py.init_notebook_mode(connected=True)\n",
    "\n",
    "%load_ext autoreload\n",
    "%autoreload 2\n",
    "%matplotlib inline"
   ]
  },
  {
   "cell_type": "markdown",
   "metadata": {
    "colab_type": "text",
    "id": "ltiR1lNbW_5g"
   },
   "source": [
    "## Setting up the Kaggle API"
   ]
  },
  {
   "cell_type": "code",
   "execution_count": null,
   "metadata": {
    "colab": {
     "base_uri": "https://localhost:8080/",
     "height": 122
    },
    "colab_type": "code",
    "executionInfo": {
     "elapsed": 20315,
     "status": "ok",
     "timestamp": 1583069655158,
     "user": {
      "displayName": "Christina Salker",
      "photoUrl": "https://lh3.googleusercontent.com/a-/AOh14Gi4IqNJZgrPaQeGE4tOg79vcUrtM9omqov_EOBk=s64",
      "userId": "13742789754115775095"
     },
     "user_tz": -60
    },
    "id": "QXOcvu5Vhc3x",
    "outputId": "ea078c5d-993f-478e-da92-80d43728f3f5"
   },
   "outputs": [],
   "source": [
    "# mount your google drive so you can save to it. You'll need to put in a token.\n",
    "from google.colab import drive\n",
    "drive.mount('/content/gdrive')"
   ]
  },
  {
   "cell_type": "code",
   "execution_count": null,
   "metadata": {
    "colab": {
     "base_uri": "https://localhost:8080/",
     "height": 88,
     "resources": {
      "http://localhost:8080/nbextensions/google.colab/files.js": {
       "data": "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",
       "headers": [
        [
         "content-type",
         "application/javascript"
        ]
       ],
       "ok": true,
       "status": 200,
       "status_text": ""
      }
     }
    },
    "colab_type": "code",
    "executionInfo": {
     "elapsed": 10380,
     "status": "ok",
     "timestamp": 1583069712745,
     "user": {
      "displayName": "Christina Salker",
      "photoUrl": "https://lh3.googleusercontent.com/a-/AOh14Gi4IqNJZgrPaQeGE4tOg79vcUrtM9omqov_EOBk=s64",
      "userId": "13742789754115775095"
     },
     "user_tz": -60
    },
    "id": "au-8yMCjTnzc",
    "outputId": "f190ec18-b8aa-4242-cd51-195bc5a81fa5"
   },
   "outputs": [],
   "source": [
    "from google.colab import files\n",
    "files.upload()"
   ]
  },
  {
   "cell_type": "code",
   "execution_count": null,
   "metadata": {
    "colab": {},
    "colab_type": "code",
    "id": "5IlJVO40hoJO"
   },
   "outputs": [],
   "source": [
    "# create environment variables for kaggle to authenticate with\n",
    "os.environ['KAGGLE_USERNAME'] = \"your_username\"\n",
    "os.environ['KAGGLE_KEY'] = \"your_token\""
   ]
  },
  {
   "cell_type": "code",
   "execution_count": null,
   "metadata": {
    "colab": {
     "base_uri": "https://localhost:8080/",
     "height": 34
    },
    "colab_type": "code",
    "executionInfo": {
     "elapsed": 619,
     "status": "ok",
     "timestamp": 1583069743190,
     "user": {
      "displayName": "Christina Salker",
      "photoUrl": "https://lh3.googleusercontent.com/a-/AOh14Gi4IqNJZgrPaQeGE4tOg79vcUrtM9omqov_EOBk=s64",
      "userId": "13742789754115775095"
     },
     "user_tz": -60
    },
    "id": "l6ZtwEvkkdt5",
    "outputId": "6d5d8d75-62aa-453b-eba6-a7d4a11f454a"
   },
   "outputs": [],
   "source": [
    "##os.mkdir('c_skin')\n",
    "os.listdir()"
   ]
  },
  {
   "cell_type": "code",
   "execution_count": null,
   "metadata": {
    "colab": {},
    "colab_type": "code",
    "id": "aeIkv0LDT8Kg"
   },
   "outputs": [],
   "source": [
    "!mkdir -p ~/.kaggle\n",
    "!cp kaggle.json ~/.kaggle/"
   ]
  },
  {
   "cell_type": "markdown",
   "metadata": {
    "colab_type": "text",
    "id": "s3utORU2XOhR"
   },
   "source": [
    "## Loading the HAM10000 dataset"
   ]
  },
  {
   "cell_type": "code",
   "execution_count": null,
   "metadata": {
    "colab": {
     "base_uri": "https://localhost:8080/",
     "height": 68
    },
    "colab_type": "code",
    "executionInfo": {
     "elapsed": 75360,
     "status": "ok",
     "timestamp": 1583069863749,
     "user": {
      "displayName": "Christina Salker",
      "photoUrl": "https://lh3.googleusercontent.com/a-/AOh14Gi4IqNJZgrPaQeGE4tOg79vcUrtM9omqov_EOBk=s64",
      "userId": "13742789754115775095"
     },
     "user_tz": -60
    },
    "id": "n6JjvBu5knUg",
    "outputId": "bd8701b3-dfe2-4288-b40f-6c3b56cc936c"
   },
   "outputs": [],
   "source": [
    "# get the dataset from kaggle\n",
    "!kaggle datasets download -d kmader/skin-cancer-mnist-ham10000 -p 'c_skin'"
   ]
  },
  {
   "cell_type": "code",
   "execution_count": null,
   "metadata": {
    "colab": {
     "base_uri": "https://localhost:8080/",
     "height": 428
    },
    "colab_type": "code",
    "executionInfo": {
     "elapsed": 2668,
     "status": "ok",
     "timestamp": 1583069884531,
     "user": {
      "displayName": "Christina Salker",
      "photoUrl": "https://lh3.googleusercontent.com/a-/AOh14Gi4IqNJZgrPaQeGE4tOg79vcUrtM9omqov_EOBk=s64",
      "userId": "13742789754115775095"
     },
     "user_tz": -60
    },
    "id": "-uvO7--hmZAx",
    "outputId": "2119ca0a-cd8a-40bd-ce23-cd84c9ab8e01"
   },
   "outputs": [],
   "source": [
    "! kaggle datasets list"
   ]
  },
  {
   "cell_type": "code",
   "execution_count": null,
   "metadata": {
    "colab": {
     "base_uri": "https://localhost:8080/",
     "height": 1000
    },
    "colab_type": "code",
    "executionInfo": {
     "elapsed": 110674,
     "status": "ok",
     "timestamp": 1583071469537,
     "user": {
      "displayName": "Christina Salker",
      "photoUrl": "https://lh3.googleusercontent.com/a-/AOh14Gi4IqNJZgrPaQeGE4tOg79vcUrtM9omqov_EOBk=s64",
      "userId": "13742789754115775095"
     },
     "user_tz": -60
    },
    "id": "KhNYvWVVVSDD",
    "outputId": "7e537c00-82d4-413a-8690-a96d5d4fedff"
   },
   "outputs": [],
   "source": [
    "# Unzip the whole zipfile into /c_skin\n",
    "!unzip -o c_skin/skin-cancer-mnist-ham10000.zip -d c_skin\n",
    "\n",
    "# Quietly unzip the image files\n",
    "#!unzip -o -q c_skin/HAM10000_images_part_1 -d c_skin\n",
    "#!unzip -o -q c_skin/HAM10000_images_part_2 -d c_skin\n",
    "\n",
    "# Tell me how many files I unzipped///\n",
    "!echo files in c_skin: `ls c_skin | wc -l`"
   ]
  },
  {
   "cell_type": "code",
   "execution_count": null,
   "metadata": {
    "colab": {
     "base_uri": "https://localhost:8080/",
     "height": 85
    },
    "colab_type": "code",
    "executionInfo": {
     "elapsed": 2319,
     "status": "ok",
     "timestamp": 1583071515919,
     "user": {
      "displayName": "Christina Salker",
      "photoUrl": "https://lh3.googleusercontent.com/a-/AOh14Gi4IqNJZgrPaQeGE4tOg79vcUrtM9omqov_EOBk=s64",
      "userId": "13742789754115775095"
     },
     "user_tz": -60
    },
    "id": "Ny_7-8AWadDf",
    "outputId": "bf206aec-a1b8-4bb3-bd71-508486ccda15"
   },
   "outputs": [],
   "source": [
    "!ls c_skin"
   ]
  },
  {
   "cell_type": "markdown",
   "metadata": {
    "colab_type": "text",
    "id": "woSQPay4bwBR"
   },
   "source": [
    "## Load data into pandas df"
   ]
  },
  {
   "cell_type": "code",
   "execution_count": null,
   "metadata": {
    "colab": {},
    "colab_type": "code",
    "id": "bXuzHkKdbvfg"
   },
   "outputs": [],
   "source": [
    "%matplotlib inline\n",
    "import matplotlib.pyplot as plt\n",
    "import seaborn as sns\n",
    "import numpy as np\n",
    "import pandas as pd\n",
    "import os\n",
    "from glob import glob"
   ]
  },
  {
   "cell_type": "code",
   "execution_count": null,
   "metadata": {
    "colab": {},
    "colab_type": "code",
    "id": "e7G43qjekefu"
   },
   "outputs": [],
   "source": [
    "base_skin_dir = os.path.join('c_skin')"
   ]
  },
  {
   "cell_type": "code",
   "execution_count": null,
   "metadata": {
    "colab": {},
    "colab_type": "code",
    "id": "j5Slw90icCtZ"
   },
   "outputs": [],
   "source": [
    "# This os.path method does not really work, because the files are not local\n",
    "imageid_path_dict = {os.path.splitext(os.path.basename(x))[0]: x\n",
    "                     for x in glob(os.path.join(base_skin_dir, '*', '*.jpg'))}"
   ]
  },
  {
   "cell_type": "code",
   "execution_count": null,
   "metadata": {
    "colab": {},
    "colab_type": "code",
    "id": "tNQnctqAcNls"
   },
   "outputs": [],
   "source": [
    "# Create dictionary of the different lesion types\n",
    "lesion_type_dict = {\n",
    "    'nv': 'Melanocytic nevi',\n",
    "    'mel': 'dermatofibroma',\n",
    "    'bkl': 'Benign keratosis-like lesions ',\n",
    "    'bcc': 'Basal cell carcinoma',\n",
    "    'akiec': 'Actinic keratoses',\n",
    "    'vasc': 'Vascular lesions',\n",
    "    'df': 'Dermatofibroma'\n",
    "}"
   ]
  },
  {
   "cell_type": "code",
   "execution_count": null,
   "metadata": {
    "colab": {
     "base_uri": "https://localhost:8080/",
     "height": 204
    },
    "colab_type": "code",
    "executionInfo": {
     "elapsed": 600,
     "status": "ok",
     "timestamp": 1583074488027,
     "user": {
      "displayName": "Christina Salker",
      "photoUrl": "https://lh3.googleusercontent.com/a-/AOh14Gi4IqNJZgrPaQeGE4tOg79vcUrtM9omqov_EOBk=s64",
      "userId": "13742789754115775095"
     },
     "user_tz": -60
    },
    "id": "Dg0gJAiLcWT8",
    "outputId": "3d70b812-b676-4ca4-9835-291db300da51"
   },
   "outputs": [],
   "source": [
    "tile_df = pd.read_csv('c_skin/HAM10000_metadata.csv')\n",
    "tile_df.head()"
   ]
  },
  {
   "cell_type": "code",
   "execution_count": null,
   "metadata": {
    "colab": {
     "base_uri": "https://localhost:8080/",
     "height": 221
    },
    "colab_type": "code",
    "executionInfo": {
     "elapsed": 583,
     "status": "ok",
     "timestamp": 1583074491217,
     "user": {
      "displayName": "Christina Salker",
      "photoUrl": "https://lh3.googleusercontent.com/a-/AOh14Gi4IqNJZgrPaQeGE4tOg79vcUrtM9omqov_EOBk=s64",
      "userId": "13742789754115775095"
     },
     "user_tz": -60
    },
    "id": "mEk8g2Z8dghl",
    "outputId": "74141d69-afc7-47d6-a405-9f482d650cd3"
   },
   "outputs": [],
   "source": [
    "tile_df.info(verbose=True)"
   ]
  },
  {
   "cell_type": "code",
   "execution_count": null,
   "metadata": {
    "colab": {
     "base_uri": "https://localhost:8080/",
     "height": 204
    },
    "colab_type": "code",
    "executionInfo": {
     "elapsed": 588,
     "status": "ok",
     "timestamp": 1583074527784,
     "user": {
      "displayName": "Christina Salker",
      "photoUrl": "https://lh3.googleusercontent.com/a-/AOh14Gi4IqNJZgrPaQeGE4tOg79vcUrtM9omqov_EOBk=s64",
      "userId": "13742789754115775095"
     },
     "user_tz": -60
    },
    "id": "WAbc8eUuch9B",
    "outputId": "013ca755-23bd-4860-9d27-40c232daff94"
   },
   "outputs": [],
   "source": [
    "tile_df['path'] = tile_df['image_id'].map(imageid_path_dict.get)\n",
    "tile_df.sample(5)"
   ]
  },
  {
   "cell_type": "code",
   "execution_count": null,
   "metadata": {
    "colab": {
     "base_uri": "https://localhost:8080/",
     "height": 309
    },
    "colab_type": "code",
    "executionInfo": {
     "elapsed": 694,
     "status": "ok",
     "timestamp": 1583074537909,
     "user": {
      "displayName": "Christina Salker",
      "photoUrl": "https://lh3.googleusercontent.com/a-/AOh14Gi4IqNJZgrPaQeGE4tOg79vcUrtM9omqov_EOBk=s64",
      "userId": "13742789754115775095"
     },
     "user_tz": -60
    },
    "id": "nOImVpSsmBSQ",
    "outputId": "c37e69ed-df50-41c3-b954-3ad425e49d17"
   },
   "outputs": [],
   "source": [
    "tile_df['cell_type'] = tile_df['dx'].map(lesion_type_dict.get) \n",
    "tile_df['cell_type_idx'] = pd.Categorical(tile_df['cell_type']).codes\n",
    "tile_df.sample(5)"
   ]
  },
  {
   "cell_type": "code",
   "execution_count": null,
   "metadata": {
    "colab": {
     "base_uri": "https://localhost:8080/",
     "height": 190
    },
    "colab_type": "code",
    "executionInfo": {
     "elapsed": 711,
     "status": "ok",
     "timestamp": 1583074547126,
     "user": {
      "displayName": "Christina Salker",
      "photoUrl": "https://lh3.googleusercontent.com/a-/AOh14Gi4IqNJZgrPaQeGE4tOg79vcUrtM9omqov_EOBk=s64",
      "userId": "13742789754115775095"
     },
     "user_tz": -60
    },
    "id": "uOHp64VVi0nl",
    "outputId": "a63ed3d8-0f0a-4951-b6eb-44b6574b0a8f"
   },
   "outputs": [],
   "source": [
    "tile_df.describe(exclude=[np.number])"
   ]
  },
  {
   "cell_type": "code",
   "execution_count": null,
   "metadata": {
    "colab": {
     "base_uri": "https://localhost:8080/",
     "height": 475
    },
    "colab_type": "code",
    "executionInfo": {
     "elapsed": 748,
     "status": "ok",
     "timestamp": 1583074804465,
     "user": {
      "displayName": "Christina Salker",
      "photoUrl": "https://lh3.googleusercontent.com/a-/AOh14Gi4IqNJZgrPaQeGE4tOg79vcUrtM9omqov_EOBk=s64",
      "userId": "13742789754115775095"
     },
     "user_tz": -60
    },
    "id": "KTc9VL2Wi9f_",
    "outputId": "713366b7-2fc5-49c0-9273-b0654a1a38ba"
   },
   "outputs": [],
   "source": [
    "# Using matplotlib to visualize the number of images per lesion type\n",
    "fig, ax1 = plt.subplots(1, 1, figsize = (10, 5))\n",
    "tile_df['cell_type'].value_counts().plot(kind='bar', ax=ax1)"
   ]
  },
  {
   "cell_type": "code",
   "execution_count": null,
   "metadata": {
    "colab": {},
    "colab_type": "code",
    "id": "oxGXKcw0mLQf"
   },
   "outputs": [],
   "source": [
    "# Load all the images into the df\n",
    "from skimage.io import imread\n",
    "tile_df['image'] = tile_df['path'].map(imread)"
   ]
  },
  {
   "cell_type": "code",
   "execution_count": null,
   "metadata": {
    "colab": {
     "base_uri": "https://localhost:8080/",
     "height": 51
    },
    "colab_type": "code",
    "executionInfo": {
     "elapsed": 566,
     "status": "ok",
     "timestamp": 1583075030702,
     "user": {
      "displayName": "Christina Salker",
      "photoUrl": "https://lh3.googleusercontent.com/a-/AOh14Gi4IqNJZgrPaQeGE4tOg79vcUrtM9omqov_EOBk=s64",
      "userId": "13742789754115775095"
     },
     "user_tz": -60
    },
    "id": "XpnHw-WcnaEY",
    "outputId": "9ee91366-7e5d-4fde-9094-c06e6426eea4"
   },
   "outputs": [],
   "source": [
    "# See the image size distribution\n",
    "tile_df['image'].map(lambda x: x.shape).value_counts()"
   ]
  },
  {
   "cell_type": "markdown",
   "metadata": {
    "colab_type": "text",
    "id": "k1l-jq5joE1P"
   },
   "source": [
    "## Show images in each category"
   ]
  },
  {
   "cell_type": "code",
   "execution_count": null,
   "metadata": {
    "colab": {
     "base_uri": "https://localhost:8080/",
     "height": 1000,
     "output_embedded_package_id": "1p0PiAHyAnnra8L3rg1DFOFJ_V_TS35yN"
    },
    "colab_type": "code",
    "executionInfo": {
     "elapsed": 19194,
     "status": "ok",
     "timestamp": 1583075094704,
     "user": {
      "displayName": "Christina Salker",
      "photoUrl": "https://lh3.googleusercontent.com/a-/AOh14Gi4IqNJZgrPaQeGE4tOg79vcUrtM9omqov_EOBk=s64",
      "userId": "13742789754115775095"
     },
     "user_tz": -60
    },
    "id": "0n9-MUZpoIDJ",
    "outputId": "73de00e3-552f-406f-beb0-845712c59447"
   },
   "outputs": [],
   "source": [
    "n_samples = 5\n",
    "fig, m_axs = plt.subplots(7, n_samples, figsize = (4*n_samples, 3*7))\n",
    "for n_axs, (type_name, type_rows) in zip(m_axs, \n",
    "                                         tile_df.sort_values(['cell_type']).groupby('cell_type')):\n",
    "    n_axs[0].set_title(type_name)\n",
    "    for c_ax, (_, c_row) in zip(n_axs, type_rows.sample(n_samples, random_state=2018).iterrows()):\n",
    "        c_ax.imshow(c_row['image'])\n",
    "        c_ax.axis('off')\n",
    "fig.savefig('category_samples.png', dpi=300)"
   ]
  },
  {
   "cell_type": "markdown",
   "metadata": {
    "colab_type": "text",
    "id": "3kaVAlGApBMl"
   },
   "source": [
    "## Make an EMNIST Like Dataset"
   ]
  },
  {
   "cell_type": "code",
   "execution_count": null,
   "metadata": {
    "colab": {
     "base_uri": "https://localhost:8080/",
     "height": 266
    },
    "colab_type": "code",
    "executionInfo": {
     "elapsed": 706,
     "status": "ok",
     "timestamp": 1583075331084,
     "user": {
      "displayName": "Christina Salker",
      "photoUrl": "https://lh3.googleusercontent.com/a-/AOh14Gi4IqNJZgrPaQeGE4tOg79vcUrtM9omqov_EOBk=s64",
      "userId": "13742789754115775095"
     },
     "user_tz": -60
    },
    "id": "YCG4woQ2oR5Q",
    "outputId": "81c4d55d-c877-4309-f03e-7ca80fdaa435"
   },
   "outputs": [],
   "source": [
    "tile_df[['cell_type_idx', 'cell_type']].sort_values('cell_type_idx').drop_duplicates()"
   ]
  },
  {
   "cell_type": "markdown",
   "metadata": {
    "colab_type": "text",
    "id": "uWchf3enxX1P"
   },
   "source": [
    "Create a df with only the image(pixel) and the lable. The emnist data set in the federated example has the following `element_type_structure`\n",
    "\n",
    "OrderedDict([('pixels', TensorSpec(shape=(28, 28), dtype=tf.float32, name=None)), ('label', TensorSpec(shape=(), dtype=tf.int32, name=None))])"
   ]
  },
  {
   "cell_type": "code",
   "execution_count": null,
   "metadata": {
    "colab": {
     "base_uri": "https://localhost:8080/",
     "height": 204
    },
    "colab_type": "code",
    "executionInfo": {
     "elapsed": 8192,
     "status": "ok",
     "timestamp": 1583077825129,
     "user": {
      "displayName": "Christina Salker",
      "photoUrl": "https://lh3.googleusercontent.com/a-/AOh14Gi4IqNJZgrPaQeGE4tOg79vcUrtM9omqov_EOBk=s64",
      "userId": "13742789754115775095"
     },
     "user_tz": -60
    },
    "id": "kCFC2-JZx24D",
    "outputId": "255a93e6-1a40-4626-a7f3-883d8a9a8fa9"
   },
   "outputs": [],
   "source": [
    "federated_df = tile_df[['image','cell_type_idx']]\n",
    "federated_df.head()"
   ]
  },
  {
   "cell_type": "code",
   "execution_count": null,
   "metadata": {
    "colab": {},
    "colab_type": "code",
    "id": "y_akxE1gysa8"
   },
   "outputs": [],
   "source": []
  }
 ],
 "metadata": {
  "colab": {
   "authorship_tag": "ABX9TyOModboVbDwgPKVCOppI1zq",
   "collapsed_sections": [],
   "name": "Load HAM10000 to Notebook.ipynb",
   "provenance": [],
   "toc_visible": true
  },
  "kernelspec": {
   "display_name": "Python 3",
   "language": "python",
   "name": "python3"
  },
  "language_info": {
   "codemirror_mode": {
    "name": "ipython",
    "version": 3
   },
   "file_extension": ".py",
   "mimetype": "text/x-python",
   "name": "python",
   "nbconvert_exporter": "python",
   "pygments_lexer": "ipython3",
   "version": "3.7.3"
  }
 },
 "nbformat": 4,
 "nbformat_minor": 1
}
