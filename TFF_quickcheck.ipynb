{
 "cells": [
  {
   "cell_type": "code",
   "execution_count": 25,
   "metadata": {},
   "outputs": [],
   "source": [
    "import tensorflow as tf\n",
    "import tensorflow_federated as tff\n",
    "from joblib import load\n",
    "import numpy as np\n",
    "import pandas as pd\n",
    "from sklearn.model_selection import train_test_split\n",
    "import matplotlib.pyplot as plt"
   ]
  },
  {
   "cell_type": "code",
   "execution_count": 20,
   "metadata": {},
   "outputs": [],
   "source": [
    "X, y= load(\"data_history.joblib\")\n",
    "X=X.reshape(5991,3,32,32).transpose(0, 2, 3, 1)\n",
    "#plt.imshow(X[10])\n",
    "#plt.show()#ok reshaping is correct!\n",
    "\n",
    "Xclient1, Xclient2, Yclient1, Yclient2 = train_test_split(X, y, test_size=0.55, shuffle=True);\n"
   ]
  },
  {
   "cell_type": "code",
   "execution_count": 21,
   "metadata": {},
   "outputs": [],
   "source": [
    "client1_ds = tf.data.Dataset.from_tensor_slices((Xclient1, Yclient1))\n",
    "client2_ds = tf.data.Dataset.from_tensor_slices((Xclient2, Yclient2))"
   ]
  },
  {
   "cell_type": "code",
   "execution_count": 23,
   "metadata": {},
   "outputs": [],
   "source": [
    "dataset_paths = {\n",
    "  \"client_1\" : client1_ds,\n",
    "  \"client_2\" : client2_ds\n",
    "}\n",
    "\n",
    "def create_tf_dataset_for_client_fn(id):\n",
    "   path = dataset_paths.get(id)\n",
    "   if path is None:\n",
    "     raise ValueError(f'No dataset for client {id}')\n",
    "   return path\n",
    "\n",
    "source = tff.simulation.ClientData.from_clients_and_fn(\n",
    "  list(dataset_paths.keys()), create_tf_dataset_for_client_fn)"
   ]
  },
  {
   "cell_type": "code",
   "execution_count": 24,
   "metadata": {},
   "outputs": [
    {
     "data": {
      "text/plain": [
       "<tensorflow_federated.python.simulation.client_data.ConcreteClientData at 0x2c79470ad08>"
      ]
     },
     "execution_count": 24,
     "metadata": {},
     "output_type": "execute_result"
    }
   ],
   "source": [
    "source"
   ]
  },
  {
   "cell_type": "code",
   "execution_count": null,
   "metadata": {},
   "outputs": [],
   "source": []
  }
 ],
 "metadata": {
  "kernelspec": {
   "display_name": "Python 3",
   "language": "python",
   "name": "python3"
  },
  "language_info": {
   "codemirror_mode": {
    "name": "ipython",
    "version": 3
   },
   "file_extension": ".py",
   "mimetype": "text/x-python",
   "name": "python",
   "nbconvert_exporter": "python",
   "pygments_lexer": "ipython3",
   "version": "3.7.4"
  }
 },
 "nbformat": 4,
 "nbformat_minor": 2
}
